{
 "cells": [
  {
   "cell_type": "markdown",
   "id": "dcea8c28-fff3-4829-bdc2-47adcecae457",
   "metadata": {},
   "source": [
    "# Running hofx application in JEDI\n",
    "\n",
    "## prerequisite\n",
    "- `jedi-bundle` is already built in your JEDI_BUILD.\n",
    "- Background files\n",
    "- observation files\n",
    "- Input geometry files"
   ]
  },
  {
   "cell_type": "markdown",
   "id": "61ae065d-50af-436e-87b7-feb5430c7b01",
   "metadata": {},
   "source": [
    "---"
   ]
  },
  {
   "cell_type": "markdown",
   "id": "68b4c4e8-d0e3-466f-97ef-f47a67ef0173",
   "metadata": {},
   "source": [
    "## Introduction"
   ]
  },
  {
   "cell_type": "markdown",
   "id": "0581d633-a285-4cf7-a281-642ee0e36d36",
   "metadata": {},
   "source": [
    "### 3DVar method"
   ]
  },
  {
   "cell_type": "markdown",
   "id": "d24be244-bc6e-432a-90aa-0f004a0ab2cf",
   "metadata": {},
   "source": [
    "### B"
   ]
  },
  {
   "cell_type": "code",
   "execution_count": null,
   "id": "d2f63ac2-9f91-45c5-9387-ca77ded09482",
   "metadata": {},
   "outputs": [],
   "source": []
  },
  {
   "cell_type": "markdown",
   "id": "b85aaa2a-0df8-4b8b-9a8a-d43f7252e4bd",
   "metadata": {},
   "source": [
    "## YAML structure"
   ]
  },
  {
   "cell_type": "markdown",
   "id": "8d9cf792-320c-4932-896c-3d8a0d00e8d0",
   "metadata": {},
   "source": [
    "## Running 3DVar application"
   ]
  },
  {
   "cell_type": "code",
   "execution_count": null,
   "id": "e95fef09-3ae0-4edb-8832-bc89dea0b9a2",
   "metadata": {},
   "outputs": [],
   "source": []
  },
  {
   "cell_type": "markdown",
   "id": "587132e7-9b4d-4173-8f68-9880d1f5477e",
   "metadata": {},
   "source": [
    "## Evaluating the results"
   ]
  },
  {
   "cell_type": "markdown",
   "id": "54d1a57e-c5f2-4c43-9cac-b02bbf3aa2f3",
   "metadata": {},
   "source": [
    "### Convergence"
   ]
  },
  {
   "cell_type": "markdown",
   "id": "b0d4fc2c-1503-42f6-a950-d5e8c98d362a",
   "metadata": {},
   "source": [
    "### omh0 vs. omh1"
   ]
  }
 ],
 "metadata": {
  "kernelspec": {
   "display_name": "Python 3 (ipykernel)",
   "language": "python",
   "name": "python3"
  },
  "language_info": {
   "codemirror_mode": {
    "name": "ipython",
    "version": 3
   },
   "file_extension": ".py",
   "mimetype": "text/x-python",
   "name": "python",
   "nbconvert_exporter": "python",
   "pygments_lexer": "ipython3",
   "version": "3.10.8"
  }
 },
 "nbformat": 4,
 "nbformat_minor": 5
}
