{
 "cells": [
  {
   "cell_type": "markdown",
   "id": "a621e86c-3907-4fd0-82d4-5936b53da3b7",
   "metadata": {},
   "source": [
    "# Running hofx application in JEDI\n",
    "\n",
    "## prerequisite \n",
    "- `jedi-bundle` is already built in your `JEDI_BUILD`.\n",
    "- Background files\n",
    "- observation files\n",
    "- Input geometry files\n"
   ]
  },
  {
   "cell_type": "markdown",
   "id": "de6e64b1-f3f0-4116-8d8f-800d92bfb64c",
   "metadata": {},
   "source": [
    "---"
   ]
  },
  {
   "cell_type": "markdown",
   "id": "a058714f-775f-4c88-93b4-01f9914afa52",
   "metadata": {},
   "source": [
    "## Introduciton:"
   ]
  },
  {
   "attachments": {},
   "cell_type": "markdown",
   "id": "a9732793-91d9-4c54-9e45-d55a97d67170",
   "metadata": {},
   "source": [
    "An H(x) (or hofx) application computes the model values at observation time/location. Depending on the observation type, this task can be as simple as extracting model values at the observation location. If the observed variable does not exist in the model outputs, it can be calculated using \"observation operators\" in the JEDI Unified Forward Operator (UFO) code. In the example here, the observed variable is Aerosol Optical Depth (AOD), which is not usually available in the models. The AOD observation operator will calculate AOD from the model state (using CRTM) to provide it to JEDI. \n",
    "\n",
    "There are two main approaches for computing H(x) in JEDI: \n",
    "- HofX3D: computes H(x) using model states (x) already available to the application. The application assumes all the observations within the assimilation window are valid in the middle of the window. Thus, the model state must be valid in the middle of the assimilation window. The JEDI executable for this application is `fv3jedi_hofx_nomodel.x`\n",
    "  \n",
    "- HofX4D: computes H(x) using model states computed by running the forecast model (can be a full non-linear model, a simplified linear model, pseudo, etc.). It requires an initial model state valid at the beginning of the assimilation window. The application will move the initial state forward using the model specified by the user. Users can set `tstep` to specify the length of the \"subwindow\" in the assimilation window. Observations within each subwindow are assumed to be valid at the beginning of that subwindow, which is the same time as the model state. (is this correct???). The JEDI executable for this application is `fv3jedi_hofx.x`\n",
    "\n"
   ]
  },
  {
   "cell_type": "markdown",
   "id": "96b3eada-bd97-4e99-ba98-65cecf1e965b",
   "metadata": {},
   "source": [
    "## YAML structure (HofX3D):"
   ]
  },
  {
   "cell_type": "markdown",
   "id": "a29e13c0-940f-4413-8d30-e0e16eed5ce1",
   "metadata": {},
   "source": [
    "```yaml\n",
    "# Beginning and length of assimilation window\n",
    "time window:\n",
    "  begin: 2021-08-04T21:00:00Z\n",
    "  length: PT6H\n",
    "\n",
    "# Geometry of the model\n",
    "geometry:\n",
    "  fms initialization:\n",
    "    namelist filename: geometry_input/fmsmpp.nml\n",
    "  akbk: geometry_input/akbk72.nc4\n",
    "  npx: 13\n",
    "  npy: 13\n",
    "  npz: 72\n",
    "  field metadata override: geometry_input/geos.yaml\n",
    "\n",
    "# Model state valid in the middle of the assimilation window\n",
    "state:\n",
    "  datetime: 2021-08-05T00:00:00Z\n",
    "  filetype: cube sphere history\n",
    "  datapath: geos_c12\n",
    "  filenames: [aero_x48rt.abkg.eta.%yyyy%mm%dd_%hh%MMz.nc4, met_x48rt.bkg_clcv.%yyyy%mm%dd_%hh%MMz.nc4]\n",
    "  state variables: [ud,vd,ua,va,t,delp,q,qi,ql,phis,SO4,\n",
    "                    BCPHOBIC,BCPHILIC,BRPHOBIC,BRPHILIC,\n",
    "                    DU,DU002,DU003,DU004,DU005,\n",
    "                    SS,SS002,SS003,SS004]\n",
    "# Observations measured throughout the assimilation window\n",
    "# But are assumed to be valid at the middle of the assimilation window.\n",
    "observations:\n",
    "  observers:\n",
    "  - obs space:\n",
    "      name: Aod\n",
    "      obsdatain:\n",
    "        engine:\n",
    "          type: H5File\n",
    "          obsfile: obs/aod_viirs_obs_202108042100.nc4\n",
    "      obsdataout:\n",
    "        engine:\n",
    "          type: H5File\n",
    "          obsfile: output/fb.3d.aod_viirs_obs_4dvar_geos_aero_202108042100.nc4\n",
    "      simulated variables: [aerosolOpticalDepth]\n",
    "      channels: 4\n",
    "    obs operator:\n",
    "      name: AodCRTM\n",
    "      Absorbers: [H2O,O3]\n",
    "      obs options:\n",
    "        Sensor_ID: v.viirs-m_j1\n",
    "        EndianType: little_endian\n",
    "        CoefficientPath: crtm/\n",
    "        AerosolOption: aerosols_gocart_default\n",
    "        model units coeff: 1.0e9\n",
    "    obs error:\n",
    "      covariance model: diagonal\n",
    "    get values:\n",
    "      time interpolation: linear\n",
    "```"
   ]
  },
  {
   "cell_type": "code",
   "execution_count": null,
   "id": "b0f87757-3c00-4651-9b7d-ad2007452796",
   "metadata": {},
   "outputs": [],
   "source": []
  },
  {
   "cell_type": "markdown",
   "id": "c585f183-c333-4ec3-9f60-2199e6ab4a7c",
   "metadata": {},
   "source": [
    "## YAML structure (HofX4D):"
   ]
  },
  {
   "cell_type": "code",
   "execution_count": null,
   "id": "2ee2d599-4cad-4802-b37d-7fb68dc05223",
   "metadata": {},
   "outputs": [],
   "source": []
  },
  {
   "cell_type": "markdown",
   "id": "51c7b310-4884-4fa6-b9c7-395e6229e0c5",
   "metadata": {},
   "source": [
    "You can use ctest `fv3jedi_test_tier1_hofx_fv3-geos_cf` in [fv3-jedi](https://github.com/JCSDA-internal/fv3-jedi/blob/1.8.0/test/CMakeLists.txt#L1107) as an [example](https://github.com/JCSDA-internal/fv3-jedi/blob/1.8.0/test/testinput/hofx_fv3-geos_cf.yaml). Here, I explain how to run an stand-alone hofx run. "
   ]
  },
  {
   "cell_type": "markdown",
   "id": "cd4b51c7-6b7d-42ed-9d3b-14e1252a235e",
   "metadata": {},
   "source": [
    "## YAML structure:"
   ]
  },
  {
   "cell_type": "markdown",
   "id": "c6d095cc-162c-41c2-b6df-001f4f95b792",
   "metadata": {},
   "source": [
    "An example of an input YAML file is below. The user needs to specify:\n",
    "\n",
    "- Time window: \n",
    "\n"
   ]
  },
  {
   "cell_type": "markdown",
   "id": "45a6c13d-88a5-421d-a387-8fa31554ec48",
   "metadata": {},
   "source": [
    "```yaml\n",
    "time window:\n",
    "  begin: 2020-09-03T15:00:00Z\n",
    "  length: PT6H\n",
    "forecast length: PT6H\n",
    "\n",
    "geometry:\n",
    "  fms initialization:\n",
    "    namelist filename: geometry_input/fmsmpp.nml\n",
    "  akbk: geometry_input/akbk72.nc4\n",
    "  npx: 13\n",
    "  npy: 13\n",
    "  npz: 72\n",
    "  field metadata override: geometry_input/geos_cf.yaml\n",
    "  \n",
    "model:\n",
    "  name: PSEUDO\n",
    "  filetype: cube sphere history\n",
    "  datapath: geos_c12\n",
    "  filename: geos_cf.bkg.%yyyy%mm%dd_%hh%MM%ssz.nc4\n",
    "  tstep: PT3H\n",
    "\n",
    "initial condition:\n",
    "  datetime: 2020-09-03T15:00:00Z\n",
    "  filetype: cube sphere history\n",
    "  datapath: geos_c12\n",
    "  filename: geos_cf.bkg.%yyyy%mm%dd_%hh%MM%ssz.nc4\n",
    "  state variables: [DELP,volume_mixing_ratio_of_no2,volume_mixing_ratio_of_no,volume_mixing_ratio_of_o3,PS,SPHU]\n",
    "  \n",
    "observations:\n",
    "  observers:\n",
    "  - obs space:\n",
    "      name: NO2\n",
    "      obsdatain:\n",
    "        engine:\n",
    "          type: H5File\n",
    "          obsfile: obs/tropomi_no2_tropo_2020090318_m.nc4\n",
    "      obsdataout:\n",
    "        engine:\n",
    "          type: H5File\n",
    "          obsfile: output/fb.tropomi_no2_geos_2020090318_m.nc\n",
    "      simulated variables: [nitrogendioxideColumn]\n",
    "    obs operator:\n",
    "      name: ColumnRetrieval\n",
    "      nlayers_retrieval: 34\n",
    "      tracer variables: [volume_mixing_ratio_of_no2]\n",
    "      isApriori: false\n",
    "      isAveragingKernel: true\n",
    "      stretchVertices: topbottom #options: top, bottom, topbottom, none\n",
    "    obs error:\n",
    "      covariance model: diagonal\n",
    "```"
   ]
  },
  {
   "cell_type": "markdown",
   "id": "69580401-459e-4481-9354-1b9e289b2b3a",
   "metadata": {},
   "source": [
    "---\n",
    "## Run the application"
   ]
  },
  {
   "cell_type": "markdown",
   "id": "89068804-c790-40f9-9a67-6e5f4551859a",
   "metadata": {},
   "source": [
    "First, set the path to your `JEDI_BUILD` and `MPIEXEC`. For example for me on Discover, it looks like this:\n",
    "\n",
    "```bash\n",
    "export MPIEXEC=/discover/swdev/jcsda/spack-stack/openmpi-4.1.3/gcc-10.1.0/bin/mpiexec\n",
    "export JEDI_BUILD=/discover/nobackup/mabdiosk/jedi-bundle/build-gnu-spack-1.5.1\n",
    "```\n",
    "\n",
    "All the files that you need are under `hofx` directory. So `cd hofx` and then you can run the application this command: \n",
    "\n",
    "```bash\n",
    "$MPIEXEC \"-n\" \"6\" $JEDI_BUILD/bin/fv3jedi_hofx.x hofx_fv3-geos_cf.yaml\n",
    "```"
   ]
  },
  {
   "cell_type": "markdown",
   "id": "160bd865-6a71-4d92-82c0-a54647b206ce",
   "metadata": {},
   "source": []
  },
  {
   "cell_type": "code",
   "execution_count": null,
   "id": "b6ad8d31-50c2-4d65-a888-778987d3f41e",
   "metadata": {},
   "outputs": [],
   "source": [
    "September 3, 2020 6:39:39 PM\n",
    "to\n",
    "September 3, 2020 6:42:26 PM\n",
    "\n",
    "Obs within 18Z\n",
    "\n",
    "time window: 2020-09-03T15:00:00Z"
   ]
  },
  {
   "cell_type": "code",
   "execution_count": null,
   "id": "f9215c67-48d6-425f-b79b-69b20c2f06d1",
   "metadata": {},
   "outputs": [],
   "source": []
  }
 ],
 "metadata": {
  "kernelspec": {
   "display_name": "Python 3 (ipykernel)",
   "language": "python",
   "name": "python3"
  },
  "language_info": {
   "codemirror_mode": {
    "name": "ipython",
    "version": 3
   },
   "file_extension": ".py",
   "mimetype": "text/x-python",
   "name": "python",
   "nbconvert_exporter": "python",
   "pygments_lexer": "ipython3",
   "version": "3.11.3"
  }
 },
 "nbformat": 4,
 "nbformat_minor": 5
}
