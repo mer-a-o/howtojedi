{
 "cells": [
  {
   "cell_type": "markdown",
   "id": "a621e86c-3907-4fd0-82d4-5936b53da3b7",
   "metadata": {},
   "source": [
    "# Running hofx application in JEDI\n",
    "\n",
    "## prerequisite \n",
    "- `jedi-bundle` is already built in your `JEDI_BUILD`.\n",
    "- Background files\n",
    "- observation files\n",
    "- Input geometry files\n"
   ]
  },
  {
   "cell_type": "markdown",
   "id": "de6e64b1-f3f0-4116-8d8f-800d92bfb64c",
   "metadata": {},
   "source": [
    "---"
   ]
  },
  {
   "cell_type": "markdown",
   "id": "a058714f-775f-4c88-93b4-01f9914afa52",
   "metadata": {},
   "source": [
    "## Introducton:"
   ]
  },
  {
   "attachments": {},
   "cell_type": "markdown",
   "id": "a9732793-91d9-4c54-9e45-d55a97d67170",
   "metadata": {},
   "source": [
    "An H(x) (or hofx) application computes the model values at observation time/location. Depending on the observation type, this task can be as simple as extracting model values at the observation location. If the observed variable does not exist in the model outputs, it can be calculated using \"observation operators\" in the JEDI Unified Forward Operator (UFO) code. In the example here, the observed variable is Aerosol Optical Depth (AOD), which is not usually available in the models. The AOD observation operator will calculate AOD from the model state (using CRTM) to provide it to JEDI. \n",
    "\n",
    "Here, we discuss two approaches for computing H(x) in JEDI: Hofx3D and Hofx4D. In each approach, assumptions are made to reduce the computational cost. "
   ]
  },
  {
   "cell_type": "markdown",
   "id": "f86cb5d3-4bf0-4d37-a6a3-6a7dc14275c9",
   "metadata": {},
   "source": [
    "## HofX3D"
   ]
  },
  {
   "cell_type": "markdown",
   "id": "d80cdc5e-1ebd-411f-9a67-06c8725c96e2",
   "metadata": {},
   "source": [
    "<div style=\"text-align: center;\">\n",
    "    <img src=\"./figures/3DVar.jpg\" width=\"500\" height=\"300\">\n",
    "</div>"
   ]
  },
  {
   "cell_type": "markdown",
   "id": "aebce848-4663-4c1e-bed1-485e79363f9a",
   "metadata": {},
   "source": [
    "For the HofX3D approach, we take a model state that is valid at the middle of the assimilation window (blue circle). We also take all the observations measured within the assimilation window (red circles). Next, we must extract the model value at the observation time and location. Since computing the model state at every observation time is costly, we assume that all the observations (within the window) were measured at the same time as our model state, which is in the middle of the window. With this assumption, we only need to find the model value at the observation locations to compute the H(x) values. \n",
    "\n",
    "The JEDI executable for this application is `fv3jedi_hofx_nomodel.x`\n"
   ]
  },
  {
   "cell_type": "markdown",
   "id": "96b3eada-bd97-4e99-ba98-65cecf1e965b",
   "metadata": {},
   "source": [
    "### YAML structure (HofX3D):"
   ]
  },
  {
   "cell_type": "markdown",
   "id": "a29e13c0-940f-4413-8d30-e0e16eed5ce1",
   "metadata": {},
   "source": [
    "```yaml\n",
    "# Beginning and length of assimilation window\n",
    "time window:\n",
    "  begin: 2021-08-04T21:00:00Z\n",
    "  length: PT6H\n",
    "\n",
    "# Geometry of the model\n",
    "geometry:\n",
    "  fms initialization:\n",
    "    namelist filename: inputs/geometry_input/fmsmpp.nml\n",
    "  akbk: inputs/geometry_input/akbk72.nc4\n",
    "  npx: 13\n",
    "  npy: 13\n",
    "  npz: 72\n",
    "  field metadata override: inputs/geometry_input/geos.yaml\n",
    "\n",
    "# Model state valid in the middle of the assimilation window\n",
    "state:\n",
    "  datetime: 2021-08-05T00:00:00Z\n",
    "  filetype: cube sphere history\n",
    "  datapath: inputs/geos_c12\n",
    "  filenames: [aero_x48rt.abkg.eta.%yyyy%mm%dd_%hh%MMz.nc4, met_x48rt.bkg_clcv.%yyyy%mm%dd_%hh%MMz.nc4]\n",
    "  state variables: [ud,vd,ua,va,t,delp,q,qi,ql,phis,SO4,\n",
    "                    BCPHOBIC,BCPHILIC,BRPHOBIC,BRPHILIC,\n",
    "                    DU,DU002,DU003,DU004,DU005,\n",
    "                    SS,SS002,SS003,SS004]\n",
    "# Observations measured throughout the assimilation window\n",
    "# But are assumed to be valid in the middle of the assimilation window.\n",
    "observations:\n",
    "  observers:\n",
    "  - obs space:\n",
    "      name: Aod\n",
    "      obsdatain:\n",
    "        engine:\n",
    "          type: H5File\n",
    "          obsfile: inputs/obs/aod_viirs_obs_202108042100.nc4\n",
    "      obsdataout:\n",
    "        engine:\n",
    "          type: H5File\n",
    "          obsfile: output/hofx3d.aod_viirs_obs_202108042100.nc4\n",
    "      simulated variables: [aerosolOpticalDepth]\n",
    "      channels: 4\n",
    "    obs operator:\n",
    "      name: AodCRTM\n",
    "      Absorbers: [H2O,O3]\n",
    "      obs options:\n",
    "        Sensor_ID: v.viirs-m_j1\n",
    "        EndianType: little_endian\n",
    "        CoefficientPath: crtm/\n",
    "        AerosolOption: aerosols_gocart_default\n",
    "        model units coeff: 1.0e9\n",
    "    obs error:\n",
    "      covariance model: diagonal\n",
    "    get values:\n",
    "      time interpolation: linear\n",
    "```"
   ]
  },
  {
   "cell_type": "markdown",
   "id": "aab38796-c3ed-44df-9748-6739306803bf",
   "metadata": {},
   "source": [
    "A few points about this experiment's YAML file:\n",
    "- Note that the assimilation window goes from `2021-08-04T21:00:00Z` to `2021-08-05T03:00:00Z`\n",
    "- The model state is valid at `2021-08-05T00:00:00Z`, the middle of the window.\n",
    "- If you examine the observation file (`aod_viirs_obs_202108042100.nc4`), you can see that it includes measurements from `21Z` to `3Z` throughout the assimilation window.\n",
    "- The observation operator is `AodCRTM` which calculates AOD from the model state.\n",
    "- The output is saved at `output/hofx3d.aod_viirs_obs_202108042100.nc4`. This file includes various variables including `hofx` and `obsValue`. "
   ]
  },
  {
   "cell_type": "markdown",
   "id": "1dd4d5eb-5417-4caa-bd8c-7cf255ca5e0e",
   "metadata": {},
   "source": [
    "### Running HofX3D\n",
    "First, set the path to your `JEDI_BUILD` and `MPIEXEC`. Running `which mpiexec` will return the path to your `mpiexec`. `JEDI_BUILD` is the path to your JEDI build directory. \n",
    "\n",
    "Here is an example of setting these two variables:\n",
    "\n",
    "```bash\n",
    "export MPIEXEC=/discover/swdev/jcsda/spack-stack/openmpi-4.1.3/gcc-10.1.0/bin/mpiexec\n",
    "export JEDI_BUILD=/discover/nobackup/mabdiosk/jedi-bundle/build-gnu-spack-1.5.1\n",
    "```\n",
    "\n",
    "All the files that you need are under `hofx` directory. So `cd hofx` and then you can run the application with this command: \n",
    "\n",
    "```bash\n",
    "$MPIEXEC \"-n\" \"6\" $JEDI_BUILD/bin/fv3jedi_hofx_nomodel.x hofx_fv3-geos_aero_nomodel.yaml 2>&1 | tee log_hofx3d.txt\n",
    "```"
   ]
  },
  {
   "cell_type": "markdown",
   "id": "2e15cbf3-f2fe-4afa-984a-d6a80c804eb9",
   "metadata": {},
   "source": [
    "### examining the output of HofX3D run"
   ]
  },
  {
   "cell_type": "markdown",
   "id": "124d6106-5fda-4069-9819-39e48367931a",
   "metadata": {},
   "source": [
    "examining the fb file and the log ....\n",
    "maybe create some plots if infra is available"
   ]
  },
  {
   "cell_type": "markdown",
   "id": "e947da39-c4d0-41f6-a09e-b3e90cb1fd4b",
   "metadata": {},
   "source": [
    "---"
   ]
  },
  {
   "cell_type": "markdown",
   "id": "4ce27c77-0cc4-4507-9370-c347b82f7d19",
   "metadata": {},
   "source": [
    "## HofX4D\n"
   ]
  },
  {
   "cell_type": "markdown",
   "id": "355cc22f-430b-47b6-a894-e82fb3d56dd6",
   "metadata": {},
   "source": [
    "<div style=\"text-align: center;\">\n",
    "    <img src=\"./figures/4DVar.jpg\" width=\"500\" height=\"300\">\n",
    "</div>"
   ]
  },
  {
   "cell_type": "markdown",
   "id": "50f5a0e2-5846-4619-9cbf-1adcda21efcb",
   "metadata": {},
   "source": [
    "\n",
    "For the HofX4D approach, we take a model state that is valid at the beginning of the assimilation window (blue circle). We also take all the observations measured within the assimilation window (red circles). Next, we must extract the model value at the observation time and location. Computing the model state at every observation time using the full non-linear model is costly. Instead, we use a simplified (linear) model (dark blue arrows) to move the model state forward in time using a user-specified time step (`tstep`) and create smaller windows. Observations within each smaller window are assumed to be valid at the beginning of the window. Next, for each smaller window, model values at the observation locations are extracted to compute the H(x) values. \n",
    "\n",
    "The JEDI executable for this application is `fv3jedi_hofx.x`"
   ]
  },
  {
   "cell_type": "markdown",
   "id": "c585f183-c333-4ec3-9f60-2199e6ab4a7c",
   "metadata": {},
   "source": [
    "### YAML structure (HofX4D):"
   ]
  },
  {
   "cell_type": "markdown",
   "id": "45a6c13d-88a5-421d-a387-8fa31554ec48",
   "metadata": {},
   "source": [
    "```yaml\n",
    "time window:\n",
    "  begin: 2021-08-04T21:00:00Z\n",
    "  length: PT6H\n",
    "forecast length: PT6H\n",
    "geometry:\n",
    "  fms initialization:\n",
    "    namelist filename: inputs/geometry_input/fmsmpp.nml\n",
    "  akbk: inputs/geometry_input/akbk72.nc4\n",
    "  npx: 13\n",
    "  npy: 13\n",
    "  npz: 72\n",
    "  field metadata override: inputs/geometry_input/geos.yaml\n",
    "\n",
    "model:\n",
    "  name: FV3LM\n",
    "  namelist filename: inputs/geometry_input/input_geos_c12.nml\n",
    "  tstep: PT15M\n",
    "  #tstep: PT6H # changing this impacts the result, does this tells us what the subwindows are?\n",
    "  lm_do_dyn: 1\n",
    "  lm_do_trb: 0\n",
    "  lm_do_mst: 0\n",
    "  model variables: [ua,va,t,delp,sphum,qi,ql,phis,SO4,\n",
    "                    BCPHOBIC,BCPHILIC,BRPHOBIC,BRPHILIC,\n",
    "                    DU,DU002,DU003,DU004,DU005,\n",
    "                    SS,SS002,SS003,SS004]\n",
    "\n",
    "\n",
    "initial condition:\n",
    "  datetime: 2021-08-04T21:00:00Z\n",
    "  filetype: cube sphere history\n",
    "  datapath: inputs/geos_c12\n",
    "  filenames: [aero_x48rt.abkg.eta.%yyyy%mm%dd_%hh%MMz.nc4, met_x48rt.bkg_clcv.%yyyy%mm%dd_%hh%MMz.nc4]\n",
    "  state variables: [ud,vd,ua,va,t,delp,q,qi,ql,phis,SO4,\n",
    "                    BCPHOBIC,BCPHILIC,BRPHOBIC,BRPHILIC,\n",
    "                    DU,DU002,DU003,DU004,DU005,\n",
    "                    SS,SS002,SS003,SS004]\n",
    "\n",
    "observations:\n",
    "  observers:\n",
    "  - obs space:\n",
    "      name: Aod\n",
    "      obsdatain:\n",
    "        engine:\n",
    "          type: H5File\n",
    "          obsfile: inputs/obs/aod_viirs_obs_202108042100.nc4\n",
    "      obsdataout:\n",
    "        engine:\n",
    "          type: H5File\n",
    "          obsfile: output/hofx4d.aod_viirs_obs_202108042100.nc4\n",
    "      simulated variables: [aerosolOpticalDepth]\n",
    "      channels: 4\n",
    "    obs operator:\n",
    "      name: AodCRTM\n",
    "      Absorbers: [H2O,O3]\n",
    "      obs options:\n",
    "        Sensor_ID: v.viirs-m_j1\n",
    "        EndianType: little_endian\n",
    "        CoefficientPath: inputs/crtm/\n",
    "        AerosolOption: aerosols_gocart_default\n",
    "        model units coeff: 1.0e9\n",
    "    obs error:\n",
    "      covariance model: diagonal\n",
    "    get values:\n",
    "      time interpolation: linear"
   ]
  },
  {
   "cell_type": "markdown",
   "id": "b365ca52-2186-44f4-9d93-7b09c5799cbd",
   "metadata": {},
   "source": [
    "A few points about this experiment's YAML file:\n",
    "\n",
    "<div class=\"alert alert-block alert-warning\"> in progress </div>"
   ]
  },
  {
   "cell_type": "markdown",
   "id": "89068804-c790-40f9-9a67-6e5f4551859a",
   "metadata": {},
   "source": [
    "### Running HofX4D\n",
    "\n",
    "Note that for HofX4D we use `fv3jedi_hofx.x`\n",
    "\n",
    "```bash\n",
    "$MPIEXEC \"-n\" \"6\" $JEDI_BUILD/bin/fv3jedi_hofx.x hofx_fv3-geos_aero.yaml 2>&1 | tee log_hofx3d.txt\n",
    "```"
   ]
  },
  {
   "cell_type": "markdown",
   "id": "635d29aa-7339-4fa6-bd88-8f76f6cc74c7",
   "metadata": {},
   "source": [
    "### examining the output of HofX4D run\n",
    "\n",
    "<div class=\"alert alert-block alert-warning\"> in progress </div>"
   ]
  },
  {
   "cell_type": "markdown",
   "id": "160bd865-6a71-4d92-82c0-a54647b206ce",
   "metadata": {},
   "source": [
    "---"
   ]
  },
  {
   "cell_type": "markdown",
   "id": "30900c6e-f023-4abb-9eed-643ec01d120b",
   "metadata": {},
   "source": [
    "## Comparing the two experiments\n",
    "\n",
    "<div class=\"alert alert-block alert-warning\"> in progress </div>\n",
    "\n",
    "- compare run time\n",
    "- compare the hofx values "
   ]
  },
  {
   "cell_type": "markdown",
   "id": "837e8250-46cb-4048-a7a0-46bf7765eac7",
   "metadata": {},
   "source": [
    "## Further reading and ctest examples\n",
    "\n",
    "<div class=\"alert alert-block alert-warning\"> in progress </div>\n",
    "\n",
    "- You can use ctest `fv3jedi_test_tier1_hofx_fv3-geos_cf` in [fv3-jedi](https://github.com/JCSDA-internal/fv3-jedi/blob/1.8.0/test/CMakeLists.txt#L1107) as an [example](https://github.com/JCSDA-internal/fv3-jedi/blob/1.8.0/test/testinput/hofx_fv3-geos_cf.yaml). \n",
    "\n",
    "- Link to documentations and/or video tutorials"
   ]
  }
 ],
 "metadata": {
  "kernelspec": {
   "display_name": "Python 3 (ipykernel)",
   "language": "python",
   "name": "python3"
  },
  "language_info": {
   "codemirror_mode": {
    "name": "ipython",
    "version": 3
   },
   "file_extension": ".py",
   "mimetype": "text/x-python",
   "name": "python",
   "nbconvert_exporter": "python",
   "pygments_lexer": "ipython3",
   "version": "3.11.3"
  }
 },
 "nbformat": 4,
 "nbformat_minor": 5
}
