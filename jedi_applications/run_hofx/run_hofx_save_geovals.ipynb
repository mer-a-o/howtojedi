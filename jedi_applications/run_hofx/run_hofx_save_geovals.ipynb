{
 "cells": [
  {
   "cell_type": "markdown",
   "id": "a621e86c-3907-4fd0-82d4-5936b53da3b7",
   "metadata": {},
   "source": [
    "# Running hofx application in JEDI and saving GeoVaLs\n",
    "\n",
    "## prerequisite \n",
    "- `jedi-bundle` is already built in your `JEDI_BUILD`.\n",
    "- Background files\n",
    "- observation files\n",
    "- Input geometry files\n"
   ]
  },
  {
   "cell_type": "markdown",
   "id": "de6e64b1-f3f0-4116-8d8f-800d92bfb64c",
   "metadata": {},
   "source": [
    "---"
   ]
  },
  {
   "cell_type": "markdown",
   "id": "a058714f-775f-4c88-93b4-01f9914afa52",
   "metadata": {},
   "source": [
    "## Introducton:"
   ]
  },
  {
   "attachments": {},
   "cell_type": "markdown",
   "id": "a9732793-91d9-4c54-9e45-d55a97d67170",
   "metadata": {},
   "source": [
    "In JEDI, GeoVaLs (Model values at observations locations) represent model fields interpolated to the locations (and time) of observations, providing the “model equivalent” needed for data assimilation. They are stored as 2D columns: one dimension corresponds to the observation locations, and the other to vertical levels. \n",
    "\n",
    "In general, users do not need to interact with GeoVaLs directly, as they are part of JEDI’s internal interface. However, in some cases it may be useful to write GeoVaLs to file for inspection or debugging. For this purpose, the UFO filter `GOMsaver` can be used."
   ]
  }
 ],
 "metadata": {
  "kernelspec": {
   "display_name": "ml_env",
   "language": "python",
   "name": "python3"
  },
  "language_info": {
   "codemirror_mode": {
    "name": "ipython",
    "version": 3
   },
   "file_extension": ".py",
   "mimetype": "text/x-python",
   "name": "python",
   "nbconvert_exporter": "python",
   "pygments_lexer": "ipython3",
   "version": "3.13.4"
  }
 },
 "nbformat": 4,
 "nbformat_minor": 5
}
