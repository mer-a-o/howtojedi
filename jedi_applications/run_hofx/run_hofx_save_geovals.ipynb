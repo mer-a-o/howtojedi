{
 "cells": [
  {
   "cell_type": "markdown",
   "id": "a621e86c-3907-4fd0-82d4-5936b53da3b7",
   "metadata": {},
   "source": [
    "# Running hofx application in JEDI and saving GeoVaLs\n",
    "\n",
    "## prerequisite \n",
    "- `jedi-bundle` is already built in your `JEDI_BUILD`.\n",
    "- Background files\n",
    "- observation files\n",
    "- Input geometry files\n"
   ]
  },
  {
   "cell_type": "markdown",
   "id": "de6e64b1-f3f0-4116-8d8f-800d92bfb64c",
   "metadata": {},
   "source": [
    "---"
   ]
  },
  {
   "cell_type": "markdown",
   "id": "a058714f-775f-4c88-93b4-01f9914afa52",
   "metadata": {},
   "source": [
    "## Introducton:"
   ]
  },
  {
   "attachments": {},
   "cell_type": "markdown",
   "id": "a9732793-91d9-4c54-9e45-d55a97d67170",
   "metadata": {},
   "source": [
    "In JEDI, GeoVaLs (Model values at observations locations) represent model fields interpolated to the locations (and time) of observations, providing the “model equivalent” needed for data assimilation. They are stored as 2D columns: one dimension corresponds to the observation locations, and the other to vertical levels. \n",
    "\n",
    "In general, users do not need to interact with GeoVaLs directly, as they are part of JEDI’s internal interface. However, in some cases it may be useful to write GeoVaLs to file for inspection or debugging. For this purpose, the UFO filter `GOMsaver` can be used."
   ]
  },
  {
   "cell_type": "markdown",
   "id": "3bef423c",
   "metadata": {},
   "source": [
    "## Using CS grid for background\n",
    "\n",
    "\n",
    "```yaml\n",
    "time window:\n",
    "  begin: 2023-08-06T09:00:00Z\n",
    "  length: PT6H\n",
    "\n",
    "geometry:\n",
    "  fms initialization:\n",
    "    namelist filename: /discover/nobackup/mabdiosk/garage/applications/save-geovals/geometry_input/fmsmpp.nml\n",
    "  akbk: /discover/nobackup/mabdiosk/garage/applications/save-geovals/geometry_input/akbk72.nc4\n",
    "  npx: 361\n",
    "  npy: 361\n",
    "  npz: 72\n",
    "  field metadata override: /discover/nobackup/mabdiosk/garage/applications/save-geovals/geometry_input/geos_cf.yaml\n",
    "\n",
    "state:\n",
    "  datetime: 2023-08-06T12:00:00Z\n",
    "  filetype: cube sphere history\n",
    "  datapath: /discover/nobackup/mabdiosk/garage/applications/save-geovals/bkg_cs\n",
    "  filename: CF2.geoscf_jedi.20230806T120000Z.nc4\n",
    "  state variables:\n",
    "  - CO\n",
    "  - O3\n",
    "  - NO2\n",
    "  - T\n",
    "  - ua\n",
    "  - va\n",
    "  - DELP\n",
    "\n",
    "observations:\n",
    "  observers:\n",
    "  - obs space:\n",
    "      name: tempo_no2_tropo\n",
    "      obsdatain:\n",
    "        engine:\n",
    "          type: H5File\n",
    "          obsfile: /discover/nobackup/mabdiosk/garage/applications/save-geovals/obs/tempo_no2_tropo_20230806T090000Z_nasa_VCD.nc\n",
    "      # will be written in geovals\n",
    "      simulated variables:\n",
    "      - volume_mixing_ratio_of_no2\n",
    "      - eastward_wind\n",
    "      - northward_wind\n",
    "      derived variables: [volume_mixing_ratio_of_no2, eastward_wind, northward_wind]\n",
    "\n",
    "    obs operator:\n",
    "      name: Identity\n",
    "\n",
    "    obs filters:\n",
    "    - filter: GOMsaver\n",
    "      filename: /discover/nobackup/mabdiosk/garage/applications/save-geovals/output/tempo_geovals2_cs.nc4\n",
    "```"
   ]
  },
  {
   "cell_type": "markdown",
   "id": "0977a87a",
   "metadata": {},
   "source": [
    "## Using lat/lon grid for background"
   ]
  }
 ],
 "metadata": {
  "kernelspec": {
   "display_name": "ml_env",
   "language": "python",
   "name": "python3"
  },
  "language_info": {
   "codemirror_mode": {
    "name": "ipython",
    "version": 3
   },
   "file_extension": ".py",
   "mimetype": "text/x-python",
   "name": "python",
   "nbconvert_exporter": "python",
   "pygments_lexer": "ipython3",
   "version": "3.13.4"
  }
 },
 "nbformat": 4,
 "nbformat_minor": 5
}
