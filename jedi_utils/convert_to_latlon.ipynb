{
 "cells": [
  {
   "cell_type": "markdown",
   "id": "158b5343-de52-48a5-bdf4-b60a720e2326",
   "metadata": {},
   "source": [
    "# Converting cubed sphere to lat/lon grid using JEDI\n",
    "\n",
    "## prerequisite \n",
    "`jedi-bundle` is already built in your `JEDI_BUILD`."
   ]
  },
  {
   "cell_type": "markdown",
   "id": "8cc08e2d-ed47-4211-8d88-6994d9fe7851",
   "metadata": {},
   "source": [
    "## Usage and limitations\n",
    "`fv3jedi_converttolatlon.x` can be used to convert a cubed sphere file to a lat/lon grid. However, the user needs to specify which model level they want to perform the conversion on. This means that the executable doesn't automatically regrid all the model levels.\n",
    "\n",
    "An example of an input YAML file is below.\n",
    "The user needs to specify:\n",
    "- Input geometry (Under `state geometry`)\n",
    "- Name and datetime of the input file and the list of state variables to be written out in the latlon output file (Under `state`) ??? that is not true, why do we need `state variables` here???/\n",
    "- Details about the `latlon interpolation`. More info here: ???? link to documentation"
   ]
  },
  {
   "cell_type": "markdown",
   "id": "48bc4d19-82dc-4281-b822-b73fbba67504",
   "metadata": {},
   "source": [
    "```yaml\n",
    "states to latlon:\n",
    "- state geometry:\n",
    "    fms initialization:\n",
    "      namelist filename: ./convert_to_latlon/fmsmpp.nml\n",
    "      field table filename: ./convert_to_latlon/field_table_gmao\n",
    "    akbk: ./convert_to_latlon/akbk72.nc4\n",
    "    npx: 13\n",
    "    npy: 13\n",
    "    npz: 72\n",
    "    field metadata override: ./convert_to_latlon/geos_cf.yaml\n",
    "\n",
    "  state:\n",
    "    datetime: 2020-09-03T15:00:00Z\n",
    "    filetype: cube sphere history\n",
    "    state variables: [DELP,NO2,NO,O3,PS,SPHU]\n",
    "    datapath: ./convert_to_latlon\n",
    "    filename: geos_cf.bkg.20200903_150000z.nc4\n",
    "\n",
    "  latlon interpolation:\n",
    "    local interpolator type: oops unstructured grid interpolator\n",
    "    resolution in degrees: 5.0  # low resolution for testing\n",
    "    # need to use long names (see \"field metadata override\" file)\n",
    "    variables to output: [air_pressure_thickness,volume_mixing_ratio_of_no2] \n",
    "    pressure levels in hPa: [925, 850, 700, 500, 250]\n",
    "    model levels: [71, 10]\n",
    "    bottom model level: true\n",
    "    datapath: ./convert_to_latlon/\n",
    "    filename prefix: latlon.geos\n",
    "```"
   ]
  },
  {
   "cell_type": "markdown",
   "id": "1efc087e-bc5a-444a-9740-994e90967ac2",
   "metadata": {},
   "source": [
    "First, set the path to your `JEDI_BUILD` and `MPIEXEC`. For example for me on Discover, it looks like this:\n",
    "\n",
    "```bash\n",
    "export MPIEXEC=/discover/swdev/jcsda/spack-stack/openmpi-4.1.3/gcc-10.1.0/bin/mpiexec\n",
    "export JEDI_BUILD=/discover/nobackup/mabdiosk/jedi-bundle/build-gnu-spack-1.5.1\n",
    "```\n",
    "\n",
    "Then You can run the application this command: \n",
    "\n",
    "```bash\n",
    "$MPIEXEC \"-n\" \"6\" $JEDI_BUILD/bin/fv3jedi_converttolatlon.x ./convert_to_latlon/converttolatlon_geos.yaml\n",
    "```"
   ]
  },
  {
   "cell_type": "markdown",
   "id": "565daf1d-fba5-4e04-bb88-d0be64691b9f",
   "metadata": {},
   "source": []
  },
  {
   "cell_type": "code",
   "execution_count": null,
   "id": "4bbf97ce-2786-4df4-9a6b-08831edad4c4",
   "metadata": {},
   "outputs": [],
   "source": []
  }
 ],
 "metadata": {
  "kernelspec": {
   "display_name": "Python 3 (ipykernel)",
   "language": "python",
   "name": "python3"
  },
  "language_info": {
   "codemirror_mode": {
    "name": "ipython",
    "version": 3
   },
   "file_extension": ".py",
   "mimetype": "text/x-python",
   "name": "python",
   "nbconvert_exporter": "python",
   "pygments_lexer": "ipython3",
   "version": "3.11.3"
  }
 },
 "nbformat": 4,
 "nbformat_minor": 5
}
